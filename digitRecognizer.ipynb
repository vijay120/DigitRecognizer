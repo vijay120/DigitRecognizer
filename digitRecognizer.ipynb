{
 "cells": [
  {
   "cell_type": "code",
   "execution_count": 21,
   "metadata": {
    "collapsed": false
   },
   "outputs": [],
   "source": [
    "import csv\n",
    "import matplotlib.pyplot as plt\n",
    "import numpy as np\n",
    "import sklearn as sklearn\n",
    "\n",
    "numRows = 28\n",
    "numCols = 28\n",
    "trainReader = csv.reader(open('train.csv', 'rb'))\n",
    "\n",
    "batchedTrainingData = np.empty([8, 784])\n",
    "batchedTrainingLabels = np.empty([8])\n",
    "classLabels = np.array([0,1,2,3,4,5,6,7,8,9])\n",
    "\n",
    "trainReader.next()\n",
    "classifier = sklearn.linear_model.SGDClassifier()\n",
    "\n",
    "batchedCount = 0\n",
    "for row in trainReader:\n",
    "    labelAndTrain = map(int, row)\n",
    "    batchedTrainingData[batchedCount] = labelAndTrain[1:]\n",
    "    batchedTrainingLabels[batchedCount] = labelAndTrain[0]\n",
    "    batchedCount = batchedCount + 1\n",
    "    \n",
    "    if (batchedCount >= 8):\n",
    "        batchedCount = 0\n",
    "        classifier = classifier.partial_fit(batchedTrainingData, batchedTrainingLabels, classLabels)"
   ]
  },
  {
   "cell_type": "code",
   "execution_count": 33,
   "metadata": {
    "collapsed": false
   },
   "outputs": [],
   "source": [
    "testReader = csv.reader(open('test.csv', 'rb'))\n",
    "testReader.next()\n",
    "batchedTestData = np.empty([8, 784])\n",
    "target = open(\"result.csv\", 'w')\n",
    "writer = csv.writer(target)\n",
    "writer.writerow(('ImageId', 'Label'))\n",
    "\n",
    "batchedCount = 0\n",
    "testIndex = 0\n",
    "for row in testReader:\n",
    "    labelAndTrain = map(int, row)\n",
    "    batchedTestData[batchedCount] = labelAndTrain\n",
    "    batchedCount = batchedCount + 1\n",
    "    \n",
    "    if (batchedCount >= 8):\n",
    "        batchedCount = 0\n",
    "        results = classifier.predict(batchedTestData)\n",
    "        for num in results:\n",
    "            testIndex = testIndex + 1\n",
    "            writer.writerow((testIndex, str(num)))\n",
    "            \n"
   ]
  }
 ],
 "metadata": {
  "kernelspec": {
   "display_name": "Python 2",
   "language": "python",
   "name": "python2"
  },
  "language_info": {
   "codemirror_mode": {
    "name": "ipython",
    "version": 2
   },
   "file_extension": ".py",
   "mimetype": "text/x-python",
   "name": "python",
   "nbconvert_exporter": "python",
   "pygments_lexer": "ipython2",
   "version": "2.7.11"
  }
 },
 "nbformat": 4,
 "nbformat_minor": 0
}
